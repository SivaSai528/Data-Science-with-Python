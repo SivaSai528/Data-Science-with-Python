{
 "cells": [
  {
   "cell_type": "code",
   "execution_count": 36,
   "id": "5492059d",
   "metadata": {},
   "outputs": [
    {
     "data": {
      "text/plain": [
       "\"asdfghjASDFGHNAscvbasdfghASDFUQWPOIXM/;'(&^$@@\\nHOW Are You\\n951263826\\n@#$$\""
      ]
     },
     "execution_count": 36,
     "metadata": {},
     "output_type": "execute_result"
    }
   ],
   "source": [
    "f=open(\"f1.txt\",\"r\")\n",
    "T=f.read()\n",
    "f.close()\n",
    "T"
   ]
  },
  {
   "cell_type": "code",
   "execution_count": 37,
   "id": "ad86ac21",
   "metadata": {},
   "outputs": [
    {
     "name": "stdout",
     "output_type": "stream",
     "text": [
      "['a', 'd', 'f', 'g', 'h', 'j', 'c', 'b', 'a', 'd', 'f', 'g', 'h', 'e']\n"
     ]
    },
    {
     "data": {
      "text/plain": [
       "'adfghjcbadfghe'"
      ]
     },
     "execution_count": 37,
     "metadata": {},
     "output_type": "execute_result"
    }
   ],
   "source": [
    "import re\n",
    "x = re.findall(\"[a-n]\", T)\n",
    "x1=\"\".join(map(str,x))\n",
    "print(x)\n",
    "x1"
   ]
  },
  {
   "cell_type": "code",
   "execution_count": 38,
   "id": "e82cca80",
   "metadata": {},
   "outputs": [],
   "source": [
    "f1=open(\"small.txt\",\"w\")\n",
    "f1.write(str(x1))\n",
    "f1.close()"
   ]
  },
  {
   "cell_type": "code",
   "execution_count": 39,
   "id": "495eb48b",
   "metadata": {},
   "outputs": [
    {
     "name": "stdout",
     "output_type": "stream",
     "text": [
      "['A', 'S', 'D', 'F', 'G', 'H', 'N', 'A', 'A', 'S', 'D', 'F', 'U', 'Q', 'W', 'P', 'O', 'I', 'X', 'M', 'H', 'O', 'W', 'A', 'Y']\n"
     ]
    },
    {
     "data": {
      "text/plain": [
       "'ASDFGHNAASDFUQWPOIXMHOWAY'"
      ]
     },
     "execution_count": 39,
     "metadata": {},
     "output_type": "execute_result"
    }
   ],
   "source": [
    "y = re.findall(\"[A-Z]\", T)\n",
    "y1=\"\".join(map(str,y))\n",
    "print(y)\n",
    "y1"
   ]
  },
  {
   "cell_type": "code",
   "execution_count": 40,
   "id": "e549298d",
   "metadata": {},
   "outputs": [],
   "source": [
    "f2=open(\"capital.txt\",\"w\")\n",
    "f2.write(str(y1))\n",
    "f2.close()"
   ]
  },
  {
   "cell_type": "code",
   "execution_count": 41,
   "id": "656c2106",
   "metadata": {},
   "outputs": [
    {
     "name": "stdout",
     "output_type": "stream",
     "text": [
      "['9', '5', '1', '2', '6', '3', '8', '2', '6']\n"
     ]
    },
    {
     "data": {
      "text/plain": [
       "'951263826'"
      ]
     },
     "execution_count": 41,
     "metadata": {},
     "output_type": "execute_result"
    }
   ],
   "source": [
    "z = re.findall(\"[0-9]\", T)\n",
    "z1=\"\".join(map(str,z))\n",
    "print(z)\n",
    "z1"
   ]
  },
  {
   "cell_type": "code",
   "execution_count": 42,
   "id": "197fec10",
   "metadata": {},
   "outputs": [],
   "source": [
    "f3=open(\"numbers.txt\",\"w\")\n",
    "f3.write(str(z1))\n",
    "f3.close()"
   ]
  },
  {
   "cell_type": "code",
   "execution_count": 46,
   "id": "d50c1854",
   "metadata": {},
   "outputs": [
    {
     "name": "stdout",
     "output_type": "stream",
     "text": [
      "['/', ';', \"'\", '(', '&', '^', '$', '@', '@', '@', '#', '$', '$']\n"
     ]
    },
    {
     "name": "stderr",
     "output_type": "stream",
     "text": [
      "C:\\Users\\Siva\\AppData\\Local\\Temp/ipykernel_8424/2225183515.py:1: FutureWarning: Possible set union at position 2\n",
      "  s = re.findall(\"[$||@||/||;||'||(||&||^||#]\", T)\n",
      "C:\\Users\\Siva\\AppData\\Local\\Temp/ipykernel_8424/2225183515.py:1: FutureWarning: Possible set union at position 5\n",
      "  s = re.findall(\"[$||@||/||;||'||(||&||^||#]\", T)\n",
      "C:\\Users\\Siva\\AppData\\Local\\Temp/ipykernel_8424/2225183515.py:1: FutureWarning: Possible set union at position 8\n",
      "  s = re.findall(\"[$||@||/||;||'||(||&||^||#]\", T)\n",
      "C:\\Users\\Siva\\AppData\\Local\\Temp/ipykernel_8424/2225183515.py:1: FutureWarning: Possible set union at position 11\n",
      "  s = re.findall(\"[$||@||/||;||'||(||&||^||#]\", T)\n",
      "C:\\Users\\Siva\\AppData\\Local\\Temp/ipykernel_8424/2225183515.py:1: FutureWarning: Possible set union at position 14\n",
      "  s = re.findall(\"[$||@||/||;||'||(||&||^||#]\", T)\n",
      "C:\\Users\\Siva\\AppData\\Local\\Temp/ipykernel_8424/2225183515.py:1: FutureWarning: Possible set union at position 17\n",
      "  s = re.findall(\"[$||@||/||;||'||(||&||^||#]\", T)\n",
      "C:\\Users\\Siva\\AppData\\Local\\Temp/ipykernel_8424/2225183515.py:1: FutureWarning: Possible set union at position 20\n",
      "  s = re.findall(\"[$||@||/||;||'||(||&||^||#]\", T)\n",
      "C:\\Users\\Siva\\AppData\\Local\\Temp/ipykernel_8424/2225183515.py:1: FutureWarning: Possible set union at position 23\n",
      "  s = re.findall(\"[$||@||/||;||'||(||&||^||#]\", T)\n"
     ]
    },
    {
     "data": {
      "text/plain": [
       "\"/;'(&^$@@@#$$\""
      ]
     },
     "execution_count": 46,
     "metadata": {},
     "output_type": "execute_result"
    }
   ],
   "source": [
    "s = re.findall(\"[$||@||/||;||'||(||&||^||#]\", T)\n",
    "s1=\"\".join(map(str,s))\n",
    "print(s)\n",
    "s1"
   ]
  },
  {
   "cell_type": "code",
   "execution_count": 47,
   "id": "e6a550bb",
   "metadata": {},
   "outputs": [],
   "source": [
    "f4=open(\"special.txt\",\"w\")\n",
    "f4.write(str(s1))\n",
    "f4.close()"
   ]
  },
  {
   "cell_type": "code",
   "execution_count": 78,
   "id": "99121c0b",
   "metadata": {},
   "outputs": [
    {
     "name": "stdout",
     "output_type": "stream",
     "text": [
      "A\n",
      "S\n",
      "D\n",
      "F\n",
      "G\n",
      "H\n",
      "N\n",
      "A\n",
      "A\n",
      "S\n",
      "D\n",
      "F\n",
      "U\n",
      "Q\n",
      "W\n",
      "P\n",
      "O\n",
      "I\n",
      "X\n",
      "M\n",
      "H\n",
      "O\n",
      "W\n",
      "A\n",
      "Y\n"
     ]
    }
   ],
   "source": [
    "g=\"\"\n",
    "for i in T:\n",
    "    if(ord(i)>=65 and ord(i)<=90):\n",
    "        print(i)"
   ]
  },
  {
   "cell_type": "code",
   "execution_count": null,
   "id": "070d2fb6",
   "metadata": {},
   "outputs": [],
   "source": []
  }
 ],
 "metadata": {
  "kernelspec": {
   "display_name": "Python 3 (ipykernel)",
   "language": "python",
   "name": "python3"
  },
  "language_info": {
   "codemirror_mode": {
    "name": "ipython",
    "version": 3
   },
   "file_extension": ".py",
   "mimetype": "text/x-python",
   "name": "python",
   "nbconvert_exporter": "python",
   "pygments_lexer": "ipython3",
   "version": "3.9.7"
  }
 },
 "nbformat": 4,
 "nbformat_minor": 5
}
