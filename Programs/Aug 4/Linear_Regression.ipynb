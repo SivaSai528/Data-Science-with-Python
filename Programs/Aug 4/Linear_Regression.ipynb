{
 "cells": [
  {
   "cell_type": "code",
   "execution_count": 5,
   "id": "6b1b6e74",
   "metadata": {},
   "outputs": [],
   "source": [
    "#Packages And Librarys\n",
    "import pandas as pd\n",
    "import numpy as np\n",
    "from sklearn.linear_model import LinearRegression"
   ]
  },
  {
   "cell_type": "code",
   "execution_count": 6,
   "id": "cf5855a9",
   "metadata": {},
   "outputs": [],
   "source": [
    "#Taking Data\n",
    "x=np.array([5,2,4,14,4]).reshape(-1,1)\n",
    "y=np.array([7,3,5,19,6])"
   ]
  },
  {
   "cell_type": "code",
   "execution_count": 7,
   "id": "aab8f7c4",
   "metadata": {},
   "outputs": [],
   "source": [
    "#Fitting Model\n",
    "model=LinearRegression().fit(x,y)"
   ]
  },
  {
   "cell_type": "code",
   "execution_count": 22,
   "id": "171e74b8",
   "metadata": {},
   "outputs": [],
   "source": [
    "#Predicitng Y values for Given X values (b0+(b1*x))\n",
    "y_pre=model.predict(x)"
   ]
  },
  {
   "cell_type": "code",
   "execution_count": 23,
   "id": "47239cab",
   "metadata": {},
   "outputs": [
    {
     "name": "stdout",
     "output_type": "stream",
     "text": [
      "Predict Score:  1.0\n",
      "Normal Score :  0.9966920045045045\n"
     ]
    }
   ],
   "source": [
    "print(\"Predict Score: \",model.score(x,y_pre))\n",
    "print(\"Normal Score : \",model.score(x,y))"
   ]
  },
  {
   "cell_type": "code",
   "execution_count": 24,
   "id": "727148a6",
   "metadata": {},
   "outputs": [
    {
     "name": "stdout",
     "output_type": "stream",
     "text": [
      "[ 6.92792793  2.90765766  5.58783784 18.98873874  5.58783784]\n",
      "[ 7  3  5 19  6]\n"
     ]
    }
   ],
   "source": [
    "#Differnce Between Y predict and Given Y\n",
    "print(y_pre)\n",
    "print(y)"
   ]
  },
  {
   "cell_type": "code",
   "execution_count": 33,
   "id": "bf21df05",
   "metadata": {},
   "outputs": [
    {
     "name": "stdout",
     "output_type": "stream",
     "text": [
      "b0:  0.22747747747747749\n",
      "b1:  [1.34009009]\n",
      "Rechecked Y predict Values :  [ 6.92792793  2.90765766  5.58783784 18.98873874  5.58783784]\n"
     ]
    }
   ],
   "source": [
    "#Rechecking With Formula (b0+(b1*x))\n",
    "print(\"b0: \",model.intercept_)\n",
    "print(\"b1: \",model.coef_)\n",
    "y_rc=model.intercept_+np.sum(model.coef_*x,axis=1)\n",
    "print(\"Rechecked Y predict Values : \",y_rc)"
   ]
  },
  {
   "cell_type": "code",
   "execution_count": 26,
   "id": "2db9d33a",
   "metadata": {},
   "outputs": [
    {
     "name": "stdout",
     "output_type": "stream",
     "text": [
      "[[12]\n",
      " [13]\n",
      " [14]\n",
      " [15]\n",
      " [16]]\n",
      "[16.30855856 17.64864865 18.98873874 20.32882883 21.66891892]\n"
     ]
    }
   ],
   "source": [
    "#Predicitng Y values for Given X_new values (b0+(b1*x))\n",
    "x_new=np.array([12,13,14,15,16]).reshape(-1,1)\n",
    "y_new=model.predict(x_new)\n",
    "print(x_new)\n",
    "print(y_new)"
   ]
  },
  {
   "cell_type": "code",
   "execution_count": 27,
   "id": "35731162",
   "metadata": {},
   "outputs": [
    {
     "name": "stdout",
     "output_type": "stream",
     "text": [
      "New Predict Score:  1.0\n"
     ]
    }
   ],
   "source": [
    "print(\"New Predict Score: \",model.score(x_new,y_new))"
   ]
  }
 ],
 "metadata": {
  "kernelspec": {
   "display_name": "Python 3 (ipykernel)",
   "language": "python",
   "name": "python3"
  },
  "language_info": {
   "codemirror_mode": {
    "name": "ipython",
    "version": 3
   },
   "file_extension": ".py",
   "mimetype": "text/x-python",
   "name": "python",
   "nbconvert_exporter": "python",
   "pygments_lexer": "ipython3",
   "version": "3.9.7"
  }
 },
 "nbformat": 4,
 "nbformat_minor": 5
}
