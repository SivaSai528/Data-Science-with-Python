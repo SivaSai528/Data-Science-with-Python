{
 "cells": [
  {
   "cell_type": "code",
   "execution_count": 10,
   "id": "c65dc547",
   "metadata": {},
   "outputs": [
    {
     "data": {
      "text/plain": [
       "count    5.000000\n",
       "mean     3.200000\n",
       "std      1.923538\n",
       "min      1.000000\n",
       "25%      2.000000\n",
       "50%      3.000000\n",
       "75%      4.000000\n",
       "max      6.000000\n",
       "dtype: float64"
      ]
     },
     "execution_count": 10,
     "metadata": {},
     "output_type": "execute_result"
    }
   ],
   "source": [
    "import numpy as np\n",
    "import pandas as pd\n",
    "a=pd.Series([1,3,2,4,6])\n",
    "a.describe()"
   ]
  },
  {
   "cell_type": "code",
   "execution_count": 11,
   "id": "f31c7c33",
   "metadata": {},
   "outputs": [
    {
     "data": {
      "text/plain": [
       "count     5.000000\n",
       "mean      6.800000\n",
       "std       7.596052\n",
       "min       1.000000\n",
       "25%       3.000000\n",
       "50%       4.000000\n",
       "75%       6.000000\n",
       "max      20.000000\n",
       "dtype: float64"
      ]
     },
     "execution_count": 11,
     "metadata": {},
     "output_type": "execute_result"
    }
   ],
   "source": [
    "a=pd.Series([1,3,20,4,6])\n",
    "a.describe()"
   ]
  },
  {
   "cell_type": "code",
   "execution_count": 20,
   "id": "b30f9973",
   "metadata": {},
   "outputs": [
    {
     "name": "stdout",
     "output_type": "stream",
     "text": [
      "916.6666666666666\n"
     ]
    },
    {
     "data": {
      "text/plain": [
       "count     10.000000\n",
       "mean      55.000000\n",
       "std       30.276504\n",
       "min       10.000000\n",
       "25%       32.500000\n",
       "50%       55.000000\n",
       "75%       77.500000\n",
       "max      100.000000\n",
       "dtype: float64"
      ]
     },
     "execution_count": 20,
     "metadata": {},
     "output_type": "execute_result"
    }
   ],
   "source": [
    "a=pd.Series([10,20,30,40,50,60,70,80,90,100])\n",
    "print(a.var())\n",
    "a.describe()"
   ]
  },
  {
   "cell_type": "code",
   "execution_count": 21,
   "id": "8839fa3b",
   "metadata": {},
   "outputs": [
    {
     "name": "stdout",
     "output_type": "stream",
     "text": [
      "1624554.3222222226\n"
     ]
    },
    {
     "data": {
      "text/plain": [
       "count      10.000000\n",
       "mean      851.100000\n",
       "std      1274.580057\n",
       "min         1.000000\n",
       "25%        37.500000\n",
       "50%       300.000000\n",
       "75%       957.500000\n",
       "max      4000.000000\n",
       "dtype: float64"
      ]
     },
     "execution_count": 21,
     "metadata": {},
     "output_type": "execute_result"
    }
   ],
   "source": [
    "a=pd.Series([1,10,30,60,200,400,800,1010,2000,4000])\n",
    "print(a.var())\n",
    "a.describe()"
   ]
  },
  {
   "cell_type": "code",
   "execution_count": 22,
   "id": "4a62729f",
   "metadata": {},
   "outputs": [
    {
     "name": "stdout",
     "output_type": "stream",
     "text": [
      "9.166666666666666\n"
     ]
    },
    {
     "data": {
      "text/plain": [
       "count    10.00000\n",
       "mean      5.50000\n",
       "std       3.02765\n",
       "min       1.00000\n",
       "25%       3.25000\n",
       "50%       5.50000\n",
       "75%       7.75000\n",
       "max      10.00000\n",
       "dtype: float64"
      ]
     },
     "execution_count": 22,
     "metadata": {},
     "output_type": "execute_result"
    }
   ],
   "source": [
    "a=pd.Series([1,2,3,4,5,6,7,8,9,10])\n",
    "print(a.var())\n",
    "a.describe()"
   ]
  },
  {
   "cell_type": "code",
   "execution_count": 23,
   "id": "1ac90a7f",
   "metadata": {},
   "outputs": [
    {
     "name": "stdout",
     "output_type": "stream",
     "text": [
      "7.884390018921455e+18\n"
     ]
    },
    {
     "data": {
      "text/plain": [
       "count    1.000000e+01\n",
       "mean     1.080765e+09\n",
       "std      2.807916e+09\n",
       "min      1.000000e+00\n",
       "25%      1.225000e+03\n",
       "50%      3.250000e+05\n",
       "75%      6.017500e+08\n",
       "max      9.000000e+09\n",
       "dtype: float64"
      ]
     },
     "execution_count": 23,
     "metadata": {},
     "output_type": "execute_result"
    }
   ],
   "source": [
    "a=pd.Series([1,20,300,4000,50000,600000,7000000,800000000,9000000000,1000000000])\n",
    "print(a.var())\n",
    "a.describe()"
   ]
  },
  {
   "cell_type": "code",
   "execution_count": 24,
   "id": "39c5e748",
   "metadata": {},
   "outputs": [
    {
     "name": "stdout",
     "output_type": "stream",
     "text": [
      "27180966.944444444\n"
     ]
    },
    {
     "data": {
      "text/plain": [
       "count       10.000000\n",
       "mean      3582.500000\n",
       "std       5213.536894\n",
       "min          1.000000\n",
       "25%         38.250000\n",
       "50%        615.500000\n",
       "75%       8604.250000\n",
       "max      11119.000000\n",
       "dtype: float64"
      ]
     },
     "execution_count": 24,
     "metadata": {},
     "output_type": "execute_result"
    }
   ],
   "source": [
    "a=pd.Series([1,12,13,114,115,1116,1117,11118,11119,11100])\n",
    "print(a.var())\n",
    "a.describe()"
   ]
  },
  {
   "cell_type": "code",
   "execution_count": 25,
   "id": "b870d3ed",
   "metadata": {},
   "outputs": [
    {
     "name": "stdout",
     "output_type": "stream",
     "text": [
      "91666.66666666667\n"
     ]
    },
    {
     "data": {
      "text/plain": [
       "count      10.000000\n",
       "mean      550.000000\n",
       "std       302.765035\n",
       "min       100.000000\n",
       "25%       325.000000\n",
       "50%       550.000000\n",
       "75%       775.000000\n",
       "max      1000.000000\n",
       "dtype: float64"
      ]
     },
     "execution_count": 25,
     "metadata": {},
     "output_type": "execute_result"
    }
   ],
   "source": [
    "a=pd.Series([100,200,300,400,500,600,700,800,900,1000])\n",
    "print(a.var())\n",
    "a.describe()"
   ]
  },
  {
   "cell_type": "code",
   "execution_count": null,
   "id": "120a38cc",
   "metadata": {},
   "outputs": [],
   "source": []
  }
 ],
 "metadata": {
  "kernelspec": {
   "display_name": "Python 3 (ipykernel)",
   "language": "python",
   "name": "python3"
  },
  "language_info": {
   "codemirror_mode": {
    "name": "ipython",
    "version": 3
   },
   "file_extension": ".py",
   "mimetype": "text/x-python",
   "name": "python",
   "nbconvert_exporter": "python",
   "pygments_lexer": "ipython3",
   "version": "3.9.7"
  }
 },
 "nbformat": 4,
 "nbformat_minor": 5
}
