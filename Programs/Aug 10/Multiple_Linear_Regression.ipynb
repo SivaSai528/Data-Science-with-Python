{
 "cells": [
  {
   "cell_type": "code",
   "execution_count": 1,
   "id": "ea82beec",
   "metadata": {},
   "outputs": [],
   "source": [
    "#Packages And Librarys\n",
    "import pandas as pd\n",
    "import numpy as np\n",
    "from sklearn.linear_model import LinearRegression"
   ]
  },
  {
   "cell_type": "code",
   "execution_count": 3,
   "id": "e3444da2",
   "metadata": {},
   "outputs": [],
   "source": [
    "#Taking Data\n",
    "x=np.array([[5,2],[7,4],[11,9],[15,12],[19,17]])\n",
    "y=np.array([7,3,5,19,6])"
   ]
  },
  {
   "cell_type": "code",
   "execution_count": 4,
   "id": "8c7918c3",
   "metadata": {},
   "outputs": [],
   "source": [
    "#Fitting Model\n",
    "model=LinearRegression().fit(x,y)"
   ]
  },
  {
   "cell_type": "code",
   "execution_count": 5,
   "id": "7274d312",
   "metadata": {},
   "outputs": [],
   "source": [
    "#Predicitng Y values for Given X values (b0+(b1*x))\n",
    "y_pre=model.predict(x)"
   ]
  },
  {
   "cell_type": "code",
   "execution_count": 6,
   "id": "458bded8",
   "metadata": {},
   "outputs": [
    {
     "name": "stdout",
     "output_type": "stream",
     "text": [
      "Predict Score:  1.0\n",
      "Normal Score :  0.6313446969696973\n"
     ]
    }
   ],
   "source": [
    "print(\"Predict Score: \",model.score(x,y_pre))\n",
    "print(\"Normal Score : \",model.score(x,y))"
   ]
  },
  {
   "cell_type": "code",
   "execution_count": 7,
   "id": "40f7a71a",
   "metadata": {},
   "outputs": [
    {
     "name": "stdout",
     "output_type": "stream",
     "text": [
      "[ 5.84848485  7.75757576  1.68181818 15.39393939  9.31818182]\n",
      "[ 7  3  5 19  6]\n"
     ]
    }
   ],
   "source": [
    "#Differnce Between Y predict and Given Y\n",
    "print(y_pre)\n",
    "print(y)"
   ]
  },
  {
   "cell_type": "code",
   "execution_count": 8,
   "id": "c8cd45b9",
   "metadata": {},
   "outputs": [
    {
     "name": "stdout",
     "output_type": "stream",
     "text": [
      "b0:  -28.606060606060538\n",
      "b1:  [10.84848485 -9.89393939]\n",
      "Rechecked Y predict Values :  [ 5.84848485  7.75757576  1.68181818 15.39393939  9.31818182]\n"
     ]
    }
   ],
   "source": [
    "#Rechecking With Formula (b0+(b1*x))\n",
    "print(\"b0: \",model.intercept_)\n",
    "print(\"b1: \",model.coef_)\n",
    "y_rc=model.intercept_+np.sum(model.coef_*x,axis=1)\n",
    "print(\"Rechecked Y predict Values : \",y_rc)"
   ]
  },
  {
   "cell_type": "code",
   "execution_count": 10,
   "id": "2deb6d52",
   "metadata": {},
   "outputs": [
    {
     "name": "stdout",
     "output_type": "stream",
     "text": [
      "[[12 13]\n",
      " [14 15]\n",
      " [16 18]\n",
      " [19 20]\n",
      " [21 22]]\n",
      "[-27.04545455 -25.13636364 -33.12121212 -20.36363636 -18.45454545]\n"
     ]
    }
   ],
   "source": [
    "#Predicitng Y values for Given X_new values (b0+(b1*x))\n",
    "x_new=np.array([12,13,14,15,16,18,19,20,21,22]).reshape(-1,2)\n",
    "y_new=model.predict(x_new)\n",
    "print(x_new)\n",
    "print(y_new)"
   ]
  },
  {
   "cell_type": "code",
   "execution_count": 11,
   "id": "d6eee997",
   "metadata": {},
   "outputs": [
    {
     "name": "stdout",
     "output_type": "stream",
     "text": [
      "New Predict Score:  1.0\n"
     ]
    }
   ],
   "source": [
    "print(\"New Predict Score: \",model.score(x_new,y_new))"
   ]
  },
  {
   "cell_type": "code",
   "execution_count": null,
   "id": "543ec077",
   "metadata": {},
   "outputs": [],
   "source": []
  }
 ],
 "metadata": {
  "kernelspec": {
   "display_name": "Python 3 (ipykernel)",
   "language": "python",
   "name": "python3"
  },
  "language_info": {
   "codemirror_mode": {
    "name": "ipython",
    "version": 3
   },
   "file_extension": ".py",
   "mimetype": "text/x-python",
   "name": "python",
   "nbconvert_exporter": "python",
   "pygments_lexer": "ipython3",
   "version": "3.9.7"
  }
 },
 "nbformat": 4,
 "nbformat_minor": 5
}
