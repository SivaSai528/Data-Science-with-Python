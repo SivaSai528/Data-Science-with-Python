{
 "cells": [
  {
   "cell_type": "code",
   "execution_count": 1,
   "metadata": {},
   "outputs": [],
   "source": [
    "def count_hand_shakes_iterative(total_persons_in_room):\n",
    "    count = 0\n",
    "    \n",
    "    for i in range(1, total_persons_in_room):\n",
    "        \n",
    "        for j in range(i+1, total_persons_in_room+1):\n",
    "            print('Hand Shake of ', i, 'and',j)\n",
    "            count = count+1\n",
    "    \n",
    "    # total handshakes\n",
    "    print('Total number of handshakes: ', count)"
   ]
  },
  {
   "cell_type": "code",
   "execution_count": 2,
   "metadata": {
    "scrolled": true
   },
   "outputs": [
    {
     "name": "stdout",
     "output_type": "stream",
     "text": [
      "Hand Shake of  1 and 2\n",
      "Hand Shake of  1 and 3\n",
      "Hand Shake of  1 and 4\n",
      "Hand Shake of  1 and 5\n",
      "Hand Shake of  2 and 3\n",
      "Hand Shake of  2 and 4\n",
      "Hand Shake of  2 and 5\n",
      "Hand Shake of  3 and 4\n",
      "Hand Shake of  3 and 5\n",
      "Hand Shake of  4 and 5\n",
      "Total number of handshakes:  10\n"
     ]
    }
   ],
   "source": [
    "count_hand_shakes_iterative(total_persons_in_room=5)"
   ]
  },
  {
   "cell_type": "code",
   "execution_count": 3,
   "metadata": {},
   "outputs": [],
   "source": [
    "# define recursive function to count handshakes\n",
    "\n",
    "def count_hand_shakes(total_persons_in_room):\n",
    "    \n",
    "    # Base Condition: When number of persons is 2 (One Handshake)\n",
    "    if total_persons_in_room == 2:\n",
    "            return 1\n",
    "    \n",
    "    else:\n",
    "            # F(N) = F(N-1) + (N-1)\n",
    "            return count_hand_shakes(total_persons_in_room - 1) + (total_persons_in_room - 1)\n"
   ]
  },
  {
   "cell_type": "code",
   "execution_count": 4,
   "metadata": {},
   "outputs": [
    {
     "data": {
      "text/plain": [
       "10"
      ]
     },
     "execution_count": 4,
     "metadata": {},
     "output_type": "execute_result"
    }
   ],
   "source": [
    "count_hand_shakes(5)"
   ]
  },
  {
   "cell_type": "code",
   "execution_count": 5,
   "metadata": {},
   "outputs": [
    {
     "data": {
      "text/plain": [
       "6"
      ]
     },
     "execution_count": 5,
     "metadata": {},
     "output_type": "execute_result"
    }
   ],
   "source": [
    "count_hand_shakes(4)"
   ]
  },
  {
   "cell_type": "code",
   "execution_count": 6,
   "metadata": {},
   "outputs": [],
   "source": [
    "# define recursive function to count handshakes\n",
    "\n",
    "def count_hand_shakes(total_persons_in_room):\n",
    "    \n",
    "    # Base Condition: When number of persons is 2 (One Handshake)\n",
    "    print(\"The function is called with value: \", total_persons_in_room)\n",
    "    if total_persons_in_room == 2:\n",
    "            return 1\n",
    "    \n",
    "    else:\n",
    "            # F(N) = F(N-1) + (N-1)\n",
    "            return count_hand_shakes(total_persons_in_room - 1) + (total_persons_in_room - 1)"
   ]
  },
  {
   "cell_type": "code",
   "execution_count": 7,
   "metadata": {},
   "outputs": [
    {
     "name": "stdout",
     "output_type": "stream",
     "text": [
      "The function is called with value:  5\n",
      "The function is called with value:  4\n",
      "The function is called with value:  3\n",
      "The function is called with value:  2\n"
     ]
    },
    {
     "data": {
      "text/plain": [
       "10"
      ]
     },
     "execution_count": 7,
     "metadata": {},
     "output_type": "execute_result"
    }
   ],
   "source": [
    "count_hand_shakes(5)"
   ]
  },
  {
   "cell_type": "code",
   "execution_count": null,
   "metadata": {},
   "outputs": [],
   "source": [
    "#f(5) = f(4) + 4"
   ]
  },
  {
   "cell_type": "code",
   "execution_count": 9,
   "metadata": {},
   "outputs": [
    {
     "name": "stdout",
     "output_type": "stream",
     "text": [
      "The function is called with value:  4\n",
      "The function is called with value:  3\n",
      "The function is called with value:  2\n"
     ]
    }
   ],
   "source": [
    "result = count_hand_shakes(4)"
   ]
  },
  {
   "cell_type": "code",
   "execution_count": 11,
   "metadata": {},
   "outputs": [
    {
     "data": {
      "text/plain": [
       "10"
      ]
     },
     "execution_count": 11,
     "metadata": {},
     "output_type": "execute_result"
    }
   ],
   "source": [
    "result+4"
   ]
  }
 ],
 "metadata": {
  "kernelspec": {
   "display_name": "Python 3 (ipykernel)",
   "language": "python",
   "name": "python3"
  },
  "language_info": {
   "codemirror_mode": {
    "name": "ipython",
    "version": 3
   },
   "file_extension": ".py",
   "mimetype": "text/x-python",
   "name": "python",
   "nbconvert_exporter": "python",
   "pygments_lexer": "ipython3",
   "version": "3.9.7"
  }
 },
 "nbformat": 4,
 "nbformat_minor": 2
}
