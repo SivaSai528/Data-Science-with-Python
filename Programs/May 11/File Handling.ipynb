{
 "cells": [
  {
   "cell_type": "code",
   "execution_count": 2,
   "metadata": {
    "colab": {},
    "colab_type": "code",
    "id": "v-RDWQLShxxj"
   },
   "outputs": [
    {
     "ename": "FileNotFoundError",
     "evalue": "[Errno 2] No such file or directory: 's.txt'",
     "output_type": "error",
     "traceback": [
      "\u001b[1;31m---------------------------------------------------------------------------\u001b[0m",
      "\u001b[1;31mFileNotFoundError\u001b[0m                         Traceback (most recent call last)",
      "\u001b[1;32m~\\AppData\\Local\\Temp/ipykernel_11056/3073764857.py\u001b[0m in \u001b[0;36m<module>\u001b[1;34m\u001b[0m\n\u001b[1;32m----> 1\u001b[1;33m \u001b[0mf1\u001b[0m \u001b[1;33m=\u001b[0m \u001b[0mopen\u001b[0m\u001b[1;33m(\u001b[0m\u001b[1;34m\"s.txt\"\u001b[0m\u001b[1;33m,\u001b[0m \u001b[1;34m\"r\"\u001b[0m\u001b[1;33m)\u001b[0m\u001b[1;33m\u001b[0m\u001b[1;33m\u001b[0m\u001b[0m\n\u001b[0m",
      "\u001b[1;31mFileNotFoundError\u001b[0m: [Errno 2] No such file or directory: 's.txt'"
     ]
    }
   ],
   "source": [
    "\n",
    "f1 = open(\"s.txt\", \"r\")"
   ]
  },
  {
   "cell_type": "code",
   "execution_count": null,
   "metadata": {
    "colab": {},
    "colab_type": "code",
    "id": "6AGE86_hhxx5",
    "outputId": "deb94501-20c4-4c2f-b46d-7704d27c83e1"
   },
   "outputs": [],
   "source": [
    "# read the file and store the text in a variable\n",
    "f = f1.read()\n",
    "f"
   ]
  },
  {
   "cell_type": "code",
   "execution_count": 32,
   "metadata": {
    "colab": {},
    "colab_type": "code",
    "id": "wbFhUC5yhxyS",
    "outputId": "31a45576-c478-4f52-cb6d-772c94bc96db"
   },
   "outputs": [
    {
     "data": {
      "text/plain": [
       "''"
      ]
     },
     "execution_count": 32,
     "metadata": {},
     "output_type": "execute_result"
    }
   ],
   "source": [
    "# read the file again\n",
    "f = f1.read()\n",
    "\n",
    "f"
   ]
  },
  {
   "cell_type": "code",
   "execution_count": 33,
   "metadata": {
    "colab": {},
    "colab_type": "code",
    "id": "Ed_NBdXEhxyi"
   },
   "outputs": [],
   "source": [
    "'''\n",
    "As you can see we got an empty string.\n",
    "This is because the file is already opened \n",
    "and the file pointer is at the end of the file \n",
    "so one way is to close the file first to read it again.\n",
    "'''\n",
    "\n",
    "f1.close()"
   ]
  },
  {
   "cell_type": "code",
   "execution_count": 34,
   "metadata": {
    "colab": {},
    "colab_type": "code",
    "id": "5l0294PKhxyw"
   },
   "outputs": [],
   "source": [
    "complete_text = open(\"dataset/file_1.txt\", \"r\")"
   ]
  },
  {
   "cell_type": "code",
   "execution_count": 35,
   "metadata": {
    "colab": {},
    "colab_type": "code",
    "id": "OZ_FbxMwhxy8",
    "outputId": "b8984e82-07a1-4dfb-e551-2d4203c6137e"
   },
   "outputs": [
    {
     "data": {
      "text/plain": [
       "'This is line number 1.\\nThis is line number 2.\\nThis is line number 3.\\nThis is line number 4.\\nThis is line number 5.\\nThis is line number 6.\\nThis is line number 7.\\nThis is line number 8.\\nThis is line number 9.\\nThis is line number 10.\\nThis is line number 11.\\nThis is line number 12.\\nThis is line number 13.\\nThis is line number 14.\\nThis is line number 15.\\nThis is line number 16.\\nThis is line number 17.\\nThis is line number 18.\\nThis is line number 19.\\nThis is line number 20.\\nThis is line number 21.\\nThis is line number 22.\\nThis is line number 23.\\nThis is line number 24.\\nThis is line number 25.\\nThis is line number 26.\\nThis is line number 27.\\nThis is line number 28.\\nThis is line number 29.\\nThis is line number 30.\\n'"
      ]
     },
     "execution_count": 35,
     "metadata": {},
     "output_type": "execute_result"
    }
   ],
   "source": [
    "complete_text.read()"
   ]
  },
  {
   "cell_type": "code",
   "execution_count": 36,
   "metadata": {
    "colab": {},
    "colab_type": "code",
    "id": "gQI7yWSehxzN",
    "outputId": "71bbeeeb-dc03-462f-a8d3-9ec0b4d28a73"
   },
   "outputs": [
    {
     "data": {
      "text/plain": [
       "0"
      ]
     },
     "execution_count": 36,
     "metadata": {},
     "output_type": "execute_result"
    }
   ],
   "source": [
    "complete_text.seek(0)"
   ]
  },
  {
   "cell_type": "code",
   "execution_count": 37,
   "metadata": {
    "colab": {},
    "colab_type": "code",
    "id": "BUMzpDFuhxzc",
    "outputId": "55119180-93a3-43b5-a00c-ba77c027919c"
   },
   "outputs": [
    {
     "data": {
      "text/plain": [
       "'This is line number 1.\\nThis is line number 2.\\nThis is line number 3.\\nThis is line number 4.\\nThis is line number 5.\\nThis is line number 6.\\nThis is line number 7.\\nThis is line number 8.\\nThis is line number 9.\\nThis is line number 10.\\nThis is line number 11.\\nThis is line number 12.\\nThis is line number 13.\\nThis is line number 14.\\nThis is line number 15.\\nThis is line number 16.\\nThis is line number 17.\\nThis is line number 18.\\nThis is line number 19.\\nThis is line number 20.\\nThis is line number 21.\\nThis is line number 22.\\nThis is line number 23.\\nThis is line number 24.\\nThis is line number 25.\\nThis is line number 26.\\nThis is line number 27.\\nThis is line number 28.\\nThis is line number 29.\\nThis is line number 30.\\n'"
      ]
     },
     "execution_count": 37,
     "metadata": {},
     "output_type": "execute_result"
    }
   ],
   "source": [
    "complete_text.read()"
   ]
  },
  {
   "cell_type": "code",
   "execution_count": 38,
   "metadata": {
    "colab": {},
    "colab_type": "code",
    "id": "UPaghT12hxzr",
    "outputId": "baf9fb05-71c9-4ffd-f789-7755175e4330"
   },
   "outputs": [
    {
     "data": {
      "text/plain": [
       "300"
      ]
     },
     "execution_count": 38,
     "metadata": {},
     "output_type": "execute_result"
    }
   ],
   "source": [
    "# read from 300th character in the file\n",
    "complete_text.seek(300)"
   ]
  },
  {
   "cell_type": "code",
   "execution_count": 39,
   "metadata": {
    "colab": {},
    "colab_type": "code",
    "id": "C0kOqSANhxz6",
    "outputId": "7f33e47b-c170-463c-a235-476eac0a5ea0"
   },
   "outputs": [
    {
     "data": {
      "text/plain": [
       "'3.\\nThis is line number 14.\\nThis is line number 15.\\nThis is line number 16.\\nThis is line number 17.\\nThis is line number 18.\\nThis is line number 19.\\nThis is line number 20.\\nThis is line number 21.\\nThis is line number 22.\\nThis is line number 23.\\nThis is line number 24.\\nThis is line number 25.\\nThis is line number 26.\\nThis is line number 27.\\nThis is line number 28.\\nThis is line number 29.\\nThis is line number 30.\\n'"
      ]
     },
     "execution_count": 39,
     "metadata": {},
     "output_type": "execute_result"
    }
   ],
   "source": [
    "# read the file\n",
    "complete_text.read()"
   ]
  },
  {
   "cell_type": "code",
   "execution_count": 40,
   "metadata": {
    "colab": {},
    "colab_type": "code",
    "id": "FwgOwcW1hx0G"
   },
   "outputs": [],
   "source": [
    "# close the file\n",
    "complete_text.close()"
   ]
  },
  {
   "cell_type": "code",
   "execution_count": 41,
   "metadata": {
    "colab": {},
    "colab_type": "code",
    "id": "53iUSxefhx0U",
    "outputId": "8115acf9-3100-4c02-f370-370ff086e006"
   },
   "outputs": [
    {
     "name": "stdout",
     "output_type": "stream",
     "text": [
      "No of lines in file is  30\n"
     ]
    }
   ],
   "source": [
    "# read the file again store each line in a list\n",
    "text_file = open(\"dataset/file_1.txt\", \"r\")\n",
    "\n",
    "lines = text_file.readlines()\n",
    "\n",
    "# no of lines\n",
    "print('No of lines in file is ',format(len(lines)))"
   ]
  },
  {
   "cell_type": "code",
   "execution_count": 42,
   "metadata": {
    "colab": {},
    "colab_type": "code",
    "id": "TXiZwNbzhx0e",
    "outputId": "4b4c5748-df7c-459b-d44a-6336037999fe"
   },
   "outputs": [
    {
     "name": "stdout",
     "output_type": "stream",
     "text": [
      "This is line number 1.\n",
      "\n",
      "This is line number 2.\n",
      "\n",
      "This is line number 3.\n",
      "\n",
      "This is line number 4.\n",
      "\n",
      "This is line number 5.\n",
      "\n",
      "This is line number 6.\n",
      "\n",
      "This is line number 7.\n",
      "\n",
      "This is line number 8.\n",
      "\n",
      "This is line number 9.\n",
      "\n",
      "This is line number 10.\n",
      "\n",
      "This is line number 11.\n",
      "\n",
      "This is line number 12.\n",
      "\n",
      "This is line number 13.\n",
      "\n",
      "This is line number 14.\n",
      "\n",
      "This is line number 15.\n",
      "\n",
      "This is line number 16.\n",
      "\n",
      "This is line number 17.\n",
      "\n",
      "This is line number 18.\n",
      "\n",
      "This is line number 19.\n",
      "\n",
      "This is line number 20.\n",
      "\n",
      "This is line number 21.\n",
      "\n",
      "This is line number 22.\n",
      "\n",
      "This is line number 23.\n",
      "\n",
      "This is line number 24.\n",
      "\n",
      "This is line number 25.\n",
      "\n",
      "This is line number 26.\n",
      "\n",
      "This is line number 27.\n",
      "\n",
      "This is line number 28.\n",
      "\n",
      "This is line number 29.\n",
      "\n",
      "This is line number 30.\n",
      "\n"
     ]
    }
   ],
   "source": [
    "# print each line text\n",
    "for line in lines :\n",
    "    print(line)\n",
    "\n",
    "# close the file\n",
    "text_file.close()"
   ]
  },
  {
   "cell_type": "code",
   "execution_count": 43,
   "metadata": {
    "colab": {},
    "colab_type": "code",
    "id": "FtecXDR0hx0t"
   },
   "outputs": [],
   "source": [
    "with open('dataset/file_1.txt','r') as f:\n",
    "    complete_text =  f.read()"
   ]
  },
  {
   "cell_type": "code",
   "execution_count": 44,
   "metadata": {
    "colab": {},
    "colab_type": "code",
    "id": "XjnIjU2Khx03",
    "outputId": "1b132a60-fc84-4005-aa77-8004ea50c8c1"
   },
   "outputs": [
    {
     "data": {
      "text/plain": [
       "'This is line number 1.\\nThis is line number 2.\\nThis is line number 3.\\nThis is line number 4.\\nThis is line number 5.\\nThis is line number 6.\\nThis is line number 7.\\nThis is line number 8.\\nThis is line number 9.\\nThis is line number 10.\\nThis is line number 11.\\nThis is line number 12.\\nThis is line number 13.\\nThis is line number 14.\\nThis is line number 15.\\nThis is line number 16.\\nThis is line number 17.\\nThis is line number 18.\\nThis is line number 19.\\nThis is line number 20.\\nThis is line number 21.\\nThis is line number 22.\\nThis is line number 23.\\nThis is line number 24.\\nThis is line number 25.\\nThis is line number 26.\\nThis is line number 27.\\nThis is line number 28.\\nThis is line number 29.\\nThis is line number 30.\\n'"
      ]
     },
     "execution_count": 44,
     "metadata": {},
     "output_type": "execute_result"
    }
   ],
   "source": [
    "complete_text"
   ]
  },
  {
   "cell_type": "code",
   "execution_count": 23,
   "metadata": {
    "colab": {},
    "colab_type": "code",
    "id": "MvTcwOMKhx1F",
    "outputId": "72a9048f-0959-4b47-e96c-accf8c08188b"
   },
   "outputs": [
    {
     "data": {
      "text/plain": [
       "24"
      ]
     },
     "execution_count": 23,
     "metadata": {},
     "output_type": "execute_result"
    }
   ],
   "source": [
    "# let's open a file in write only mode\n",
    "my_file = open('dataset/new_file.txt','w')\n",
    "\n",
    "# write function will return the length of text written in the file.\n",
    "my_file.write('Data Science is Awesome!')"
   ]
  },
  {
   "cell_type": "code",
   "execution_count": 24,
   "metadata": {
    "colab": {},
    "colab_type": "code",
    "id": "FFQyZ40-hx1R",
    "outputId": "e12f65d9-245f-405f-fc4e-388311c008fe"
   },
   "outputs": [
    {
     "data": {
      "text/plain": [
       "'Data Science is Awesome!'"
      ]
     },
     "execution_count": 24,
     "metadata": {},
     "output_type": "execute_result"
    }
   ],
   "source": [
    "# open the file write and read mode\n",
    "my_file = open('dataset/new_file.txt','w+')\n",
    "#  read the file \n",
    "my_file.read()"
   ]
  },
  {
   "cell_type": "code",
   "execution_count": 25,
   "metadata": {
    "colab": {},
    "colab_type": "code",
    "id": "NqUWMsw6hx1a"
   },
   "outputs": [],
   "source": [
    "# close the file\n",
    "my_file.close()"
   ]
  },
  {
   "cell_type": "code",
   "execution_count": 26,
   "metadata": {
    "colab": {},
    "colab_type": "code",
    "id": "-MtvfJO4hx1l"
   },
   "outputs": [],
   "source": [
    "# Now, add some lines to the file again\n",
    "\n",
    "my_file = open('dataset/new_file.txt','w+')"
   ]
  },
  {
   "cell_type": "code",
   "execution_count": 27,
   "metadata": {
    "colab": {},
    "colab_type": "code",
    "id": "51gSiFNDhx1s"
   },
   "outputs": [],
   "source": [
    "# create a list of strings\n",
    "lines = ['Line 1','Line 2','Line 3','Line 4']\n",
    "my_file.writelines(lines)"
   ]
  },
  {
   "cell_type": "code",
   "execution_count": 28,
   "metadata": {
    "colab": {},
    "colab_type": "code",
    "id": "3ZwdGrArhx10",
    "outputId": "283cab6c-93ac-4edc-bb62-6dadcac94696"
   },
   "outputs": [
    {
     "name": "stdout",
     "output_type": "stream",
     "text": [
      "Line 1Line 2Line 3Line 4\n"
     ]
    }
   ],
   "source": [
    "# take the pointer to the initial position\n",
    "my_file.seek(0)\n",
    "# read the data\n",
    "print(my_file.read())\n",
    "my_file.close()"
   ]
  },
  {
   "cell_type": "code",
   "execution_count": 29,
   "metadata": {
    "colab": {},
    "colab_type": "code",
    "id": "aOlqrSXdhx2A"
   },
   "outputs": [
    {
     "data": {
      "text/plain": [
       "'Line 1Line 2Line 3Line 4Welcome to the python course'"
      ]
     },
     "execution_count": 29,
     "metadata": {},
     "output_type": "execute_result"
    }
   ],
   "source": [
    "# open the file in the append and read mode.\n",
    "my_file = open('dataset/new_file.txt','a+')\n",
    "\n",
    "my_file.write('Welcome to the python course')\n",
    "#  take the pointer to the initial position of the file\n",
    "my_file.seek(0)\n",
    "\n",
    "# read the file\n",
    "my_file.read()"
   ]
  },
  {
   "cell_type": "code",
   "execution_count": null,
   "metadata": {},
   "outputs": [],
   "source": []
  },
  {
   "cell_type": "code",
   "execution_count": null,
   "metadata": {},
   "outputs": [],
   "source": []
  }
 ],
 "metadata": {
  "colab": {
   "name": "File Handling in Python.ipynb",
   "provenance": []
  },
  "kernelspec": {
   "display_name": "Python 3 (ipykernel)",
   "language": "python",
   "name": "python3"
  },
  "language_info": {
   "codemirror_mode": {
    "name": "ipython",
    "version": 3
   },
   "file_extension": ".py",
   "mimetype": "text/x-python",
   "name": "python",
   "nbconvert_exporter": "python",
   "pygments_lexer": "ipython3",
   "version": "3.9.7"
  }
 },
 "nbformat": 4,
 "nbformat_minor": 1
}
